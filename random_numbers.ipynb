{
 "cells": [
  {
   "cell_type": "code",
   "execution_count": 17,
   "id": "821881d4",
   "metadata": {},
   "outputs": [],
   "source": [
    "import pandas as pd \n",
    "import random\n",
    "import numpy as np\n",
    "import timeit"
   ]
  },
  {
   "cell_type": "code",
   "execution_count": 2,
   "id": "2ba0c83b",
   "metadata": {},
   "outputs": [
    {
     "data": {
      "text/plain": [
       "36"
      ]
     },
     "execution_count": 2,
     "metadata": {},
     "output_type": "execute_result"
    }
   ],
   "source": [
    "random.randint(-90,90)"
   ]
  },
  {
   "cell_type": "code",
   "execution_count": 3,
   "id": "04e3193f",
   "metadata": {},
   "outputs": [
    {
     "data": {
      "text/plain": [
       "0.09209983926994636"
      ]
     },
     "execution_count": 3,
     "metadata": {},
     "output_type": "execute_result"
    }
   ],
   "source": [
    "random.random()"
   ]
  },
  {
   "cell_type": "code",
   "execution_count": 5,
   "id": "68db3292",
   "metadata": {},
   "outputs": [
    {
     "data": {
      "text/plain": [
       "34.34734031498466"
      ]
     },
     "execution_count": 5,
     "metadata": {},
     "output_type": "execute_result"
    }
   ],
   "source": [
    "random_number = random.random() + random.randint(-90,90)\n",
    "\n",
    "random_number"
   ]
  },
  {
   "cell_type": "code",
   "execution_count": 7,
   "id": "bc6602c9",
   "metadata": {},
   "outputs": [],
   "source": [
    "x = 1\n",
    "latitudes = []\n",
    "while x < 11:\n",
    "    random_lat = random.randint(-90, 89) + random.random()\n",
    "    latitudes.append(random_lat)\n",
    "    x += 1"
   ]
  },
  {
   "cell_type": "code",
   "execution_count": 8,
   "id": "d4420dd3",
   "metadata": {},
   "outputs": [
    {
     "data": {
      "text/plain": [
       "-58.65259526542708"
      ]
     },
     "execution_count": 8,
     "metadata": {},
     "output_type": "execute_result"
    }
   ],
   "source": [
    "random_lat"
   ]
  },
  {
   "cell_type": "code",
   "execution_count": 9,
   "id": "7eba43e5",
   "metadata": {},
   "outputs": [
    {
     "data": {
      "text/plain": [
       "[7.778923985412281,\n",
       " -51.05031688864394,\n",
       " 69.97927181703504,\n",
       " -49.51203682205993,\n",
       " -89.4603483140691,\n",
       " -52.46292817061694,\n",
       " 29.125723235244678,\n",
       " 79.06770604809756,\n",
       " 2.838129814137514,\n",
       " -58.65259526542708]"
      ]
     },
     "execution_count": 9,
     "metadata": {},
     "output_type": "execute_result"
    }
   ],
   "source": [
    "latitudes"
   ]
  },
  {
   "cell_type": "code",
   "execution_count": 14,
   "id": "d9efd3e9",
   "metadata": {},
   "outputs": [
    {
     "data": {
      "text/plain": [
       "0"
      ]
     },
     "execution_count": 14,
     "metadata": {},
     "output_type": "execute_result"
    }
   ],
   "source": [
    "random.randrange(-90,90,step=5)"
   ]
  },
  {
   "cell_type": "code",
   "execution_count": 16,
   "id": "e3f55cde",
   "metadata": {},
   "outputs": [
    {
     "data": {
      "text/plain": [
       "array([-35.46011979,  84.72049145, -45.10698226, -55.77537826,\n",
       "         7.08820261, -52.53142047, -50.52370719, -66.42424491,\n",
       "         0.58486672,  15.82032116,  18.96050817, -23.18320752,\n",
       "       -30.65968903,  22.7955004 , -28.41529991,  56.32776311,\n",
       "        70.46421766, -53.35675244,  31.59558214,  34.59363843])"
      ]
     },
     "execution_count": 16,
     "metadata": {},
     "output_type": "execute_result"
    }
   ],
   "source": [
    "np.random.uniform(-90,90, size = 20)"
   ]
  },
  {
   "cell_type": "code",
   "execution_count": 18,
   "id": "12425ab5",
   "metadata": {},
   "outputs": [
    {
     "name": "stdout",
     "output_type": "stream",
     "text": [
      "9.47 ms ± 2.15 ms per loop (mean ± std. dev. of 7 runs, 100 loops each)\n"
     ]
    }
   ],
   "source": [
    "def latitudes(size):\n",
    "    latitudes = []\n",
    "    x = 0\n",
    "    while x < (size):\n",
    "        random_lat = random.randint(-90, 90) + random.random()\n",
    "        latitudes.append(random_lat)\n",
    "        x += 1\n",
    "    return latitudes\n",
    "# Call the function with 1500.\n",
    "%timeit latitudes(1500)"
   ]
  },
  {
   "cell_type": "code",
   "execution_count": 19,
   "id": "dab4c8c0",
   "metadata": {},
   "outputs": [
    {
     "name": "stdout",
     "output_type": "stream",
     "text": [
      "53.7 µs ± 9.01 µs per loop (mean ± std. dev. of 7 runs, 10000 loops each)\n"
     ]
    }
   ],
   "source": [
    "%timeit np.random.uniform(-90,90,size=1500)"
   ]
  },
  {
   "cell_type": "code",
   "execution_count": null,
   "id": "8bd046b3",
   "metadata": {},
   "outputs": [],
   "source": []
  }
 ],
 "metadata": {
  "kernelspec": {
   "display_name": "PythonData",
   "language": "python",
   "name": "pythondata"
  },
  "language_info": {
   "codemirror_mode": {
    "name": "ipython",
    "version": 3
   },
   "file_extension": ".py",
   "mimetype": "text/x-python",
   "name": "python",
   "nbconvert_exporter": "python",
   "pygments_lexer": "ipython3",
   "version": "3.7.13"
  }
 },
 "nbformat": 4,
 "nbformat_minor": 5
}
